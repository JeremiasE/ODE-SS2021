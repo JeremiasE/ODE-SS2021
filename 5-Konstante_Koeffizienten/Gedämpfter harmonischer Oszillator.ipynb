{
 "cells": [
  {
   "cell_type": "markdown",
   "id": "45c7616b",
   "metadata": {},
   "source": [
    "# Der gedämpfte harmonische Oszillator"
   ]
  },
  {
   "cell_type": "code",
   "execution_count": 1,
   "id": "4691fc54",
   "metadata": {},
   "outputs": [
    {
     "data": {
      "text/plain": [
       "t"
      ]
     },
     "execution_count": 1,
     "metadata": {},
     "output_type": "execute_result"
    }
   ],
   "source": [
    "var(\"t\")"
   ]
  },
  {
   "cell_type": "markdown",
   "id": "fa3b8aee",
   "metadata": {},
   "source": [
    "Wir betrachten die Gleichung $\\ddot x(t) + 2a\\dot x(t) + x(t) = 0$ für $a>0$."
   ]
  },
  {
   "cell_type": "code",
   "execution_count": 3,
   "id": "8cbb7c61",
   "metadata": {},
   "outputs": [
    {
     "data": {
      "application/vnd.jupyter.widget-view+json": {
       "model_id": "3fb4c5e3bbc8483a86af0e8f8c9dceb3",
       "version_major": 2,
       "version_minor": 0
      },
      "text/plain": [
       "Interactive function <function plot_damped_oscillation at 0x7fe0cd32c310> with 4 widgets\n",
       "  a: TransformFloatSl…"
      ]
     },
     "metadata": {},
     "output_type": "display_data"
    }
   ],
   "source": [
    "@interact\n",
    "def plot_damped_oscillation(a=slider(0,3, step_size=0.2),eps = 0.1,delta = 0.2,tmax=5):\n",
    "    sigma = sqrt(abs(a^2-1))\n",
    "    lambda_1 = -a - sigma\n",
    "    lambda_2 = -a + sigma\n",
    "\n",
    "    if abs(a-1)<0.001:\n",
    "        f = e^(-t)*(eps+t*(eps+delta))\n",
    "    if a < 1:\n",
    "        f = e^(-a*t)*(eps *cos(sigma*t)+(a*eps+delta)/sigma*sin(sigma *t))\n",
    "    if a > 1: \n",
    "        f = ((-eps*lambda_1+delta)*e^(lambda_2*t) - (-eps*lambda_2+delta) * e^(lambda_1*t))/(lambda_2-lambda_1)\n",
    "    g = diff(f,t)\n",
    "    return plot(f,(t,0,tmax))+plot(g,(t,0,tmax),color=colors.green)"
   ]
  },
  {
   "cell_type": "code",
   "execution_count": null,
   "id": "82f8a783",
   "metadata": {},
   "outputs": [],
   "source": []
  }
 ],
 "metadata": {
  "kernelspec": {
   "display_name": "SageMath 9.3",
   "language": "sage",
   "name": "sagemath"
  },
  "language_info": {
   "codemirror_mode": {
    "name": "ipython",
    "version": 3
   },
   "file_extension": ".py",
   "mimetype": "text/x-python",
   "name": "python",
   "nbconvert_exporter": "python",
   "pygments_lexer": "ipython3",
   "version": "3.9.5"
  }
 },
 "nbformat": 4,
 "nbformat_minor": 5
}
