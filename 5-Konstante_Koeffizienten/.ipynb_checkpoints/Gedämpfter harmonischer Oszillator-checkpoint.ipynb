{
 "cells": [
  {
   "cell_type": "markdown",
   "id": "297f0583",
   "metadata": {},
   "source": [
    "# Der gedämpfte harmonische Oszillator"
   ]
  },
  {
   "cell_type": "code",
   "execution_count": 6,
   "id": "69495331",
   "metadata": {},
   "outputs": [
    {
     "data": {
      "text/plain": [
       "t"
      ]
     },
     "execution_count": 6,
     "metadata": {},
     "output_type": "execute_result"
    }
   ],
   "source": [
    "var(\"t\")"
   ]
  },
  {
   "cell_type": "markdown",
   "id": "c23659d6",
   "metadata": {},
   "source": [
    "Wir betrachten die Gleichung $\\ddot x(t) + 2a\\dot x(t) + x(t) = 0$ für $a>0$."
   ]
  },
  {
   "cell_type": "code",
   "execution_count": 22,
   "id": "a106c8ea",
   "metadata": {},
   "outputs": [],
   "source": [
    "a = 1.5\n",
    "sigma = sqrt(abs(a^2-1))\n",
    "lambda_1 = -a - sigma\n",
    "lambda_2 = -a + sigma\n",
    "eps = 0.1\n",
    "delta = 0.2\n",
    "if a = 1:\n",
    "    f = e^(-t)+(eps+t*(eps+delta))\n",
    "if a < 1:\n",
    "    f = ((eps*lambda_2+delta)*e^(lambda_2*t) - (eps*lambda_1+delta) * e^(lambda_1*t))/(lambda_2-lambda_1)\n",
    "if a > 1: \n",
    "    f = ((eps*lambda_2+delta)*e^(lambda_2*t) - (eps*lambda_1+delta) * e^(lambda_1*t))/(lambda_2-lambda_1)"
   ]
  },
  {
   "cell_type": "code",
   "execution_count": 23,
   "id": "7c0a906f",
   "metadata": {},
   "outputs": [],
   "source": [
    "f = ((eps*lambda_2+delta)*e^(lambda_2*t) - (eps*lambda_1+delta) * e^(lambda_1*t))/(lambda_2-lambda_1)"
   ]
  },
  {
   "cell_type": "code",
   "execution_count": 24,
   "id": "53b0b585",
   "metadata": {},
   "outputs": [
    {
     "data": {
      "text/plain": [
       "0.0723606797749979*e^(-0.381966011250105*t) + 0.0276393202250021*e^(-2.61803398874989*t)"
      ]
     },
     "execution_count": 24,
     "metadata": {},
     "output_type": "execute_result"
    }
   ],
   "source": [
    "f"
   ]
  },
  {
   "cell_type": "code",
   "execution_count": 25,
   "id": "371dd989",
   "metadata": {},
   "outputs": [
    {
     "data": {
      "text/plain": [
       "(-2.61803398874989, -0.381966011250105)"
      ]
     },
     "execution_count": 25,
     "metadata": {},
     "output_type": "execute_result"
    }
   ],
   "source": [
    "lambda_1,lambda_2"
   ]
  },
  {
   "cell_type": "code",
   "execution_count": 26,
   "id": "cc66961b",
   "metadata": {},
   "outputs": [
    {
     "data": {
      "image/png": "[encoded data removed]",
      "text/plain": [
       "Graphics object consisting of 1 graphics primitive"
      ]
     },
     "execution_count": 26,
     "metadata": {},
     "output_type": "execute_result"
    }
   ],
   "source": [
    "plot(f,(t,0,5))"
   ]
  },
  {
   "cell_type": "code",
   "execution_count": null,
   "id": "61c337d9",
   "metadata": {},
   "outputs": [],
   "source": []
  }
 ],
 "metadata": {
  "kernelspec": {
   "display_name": "SageMath 9.3",
   "language": "sage",
   "name": "sagemath"
  },
  "language_info": {
   "codemirror_mode": {
    "name": "ipython",
    "version": 3
   },
   "file_extension": ".py",
   "mimetype": "text/x-python",
   "name": "python",
   "nbconvert_exporter": "python",
   "pygments_lexer": "ipython3",
   "version": "3.9.5"
  }
 },
 "nbformat": 4,
 "nbformat_minor": 5
}
